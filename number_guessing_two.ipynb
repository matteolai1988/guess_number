{
 "cells": [
  {
   "cell_type": "code",
   "execution_count": 1,
   "id": "5ac1f305",
   "metadata": {},
   "outputs": [],
   "source": [
    "import random"
   ]
  },
  {
   "cell_type": "code",
   "execution_count": 5,
   "id": "f0f3513c",
   "metadata": {},
   "outputs": [
    {
     "name": "stdout",
     "output_type": "stream",
     "text": [
      "Type a number: 4\n",
      "4\n"
     ]
    }
   ],
   "source": [
    "top_of_range = input(\"Type a number: \")\n",
    "\n",
    "if top_of_range.isdigit():\n",
    "    top_of_range = int(top_of_range)\n",
    "    \n",
    "    if top_of_range <= 0:\n",
    "        print(\"Please type a number larger than 0 next time\")\n",
    "        quit()\n",
    "else:\n",
    "    print(\"Please type a number next time\")\n",
    "    quit()\n",
    "    \n",
    "\n",
    "random_number = random.randint(0, top_of_range)\n",
    "print(random_number)"
   ]
  },
  {
   "cell_type": "code",
   "execution_count": 3,
   "id": "c6c00bfa",
   "metadata": {},
   "outputs": [
    {
     "name": "stdout",
     "output_type": "stream",
     "text": [
      "0\n"
     ]
    }
   ],
   "source": []
  },
  {
   "cell_type": "code",
   "execution_count": null,
   "id": "966a82ff",
   "metadata": {},
   "outputs": [],
   "source": []
  }
 ],
 "metadata": {
  "kernelspec": {
   "display_name": "Python 3 (ipykernel)",
   "language": "python",
   "name": "python3"
  },
  "language_info": {
   "codemirror_mode": {
    "name": "ipython",
    "version": 3
   },
   "file_extension": ".py",
   "mimetype": "text/x-python",
   "name": "python",
   "nbconvert_exporter": "python",
   "pygments_lexer": "ipython3",
   "version": "3.9.13"
  }
 },
 "nbformat": 4,
 "nbformat_minor": 5
}
